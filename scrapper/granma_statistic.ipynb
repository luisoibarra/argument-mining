{
 "cells": [
  {
   "cell_type": "markdown",
   "metadata": {},
   "source": [
    "# Granma Statistics\n"
   ]
  },
  {
   "cell_type": "code",
   "execution_count": null,
   "metadata": {},
   "outputs": [],
   "source": [
    "from pathlib import Path\n",
    "import pandas as pd\n",
    "import json\n",
    "from matplotlib import pyplot as plt\n",
    "from typing import List, Dict\n",
    "import numpy as np\n",
    "\n",
    "DATA_PATH = Path(\"granma\", \"data\", \"letters\")\n"
   ]
  },
  {
   "cell_type": "code",
   "execution_count": null,
   "metadata": {},
   "outputs": [],
   "source": [
    "\n",
    "data_df = {\n",
    "    \"title\": [],\n",
    "    \"year\": [],\n",
    "    \"month\": [],\n",
    "    \"day\": [],\n",
    "    \"link\": [],\n",
    "    \"body\": [],\n",
    "    \"original_letter_link\": [],\n",
    "    \"is_response\": [],\n",
    "    \"comments_amount\": [],\n",
    "}\n",
    "\n",
    "for date_dir in DATA_PATH.iterdir():\n",
    "    if date_dir.is_dir():\n",
    "        for letter_dir in date_dir.iterdir():\n",
    "            if letter_dir.is_dir():\n",
    "                print(f\"WARNING: Letter {letter_dir} is a directory\")\n",
    "                continue\n",
    "            letter_json = json.loads(letter_dir.read_text())\n",
    "            year, month, day = letter_json[\"date\"].split(\"-\")\n",
    "            year, month, day = int(year), int(month), int(day)\n",
    "            title = letter_json[\"title\"]\n",
    "            body = letter_json[\"body\"] \n",
    "            link = letter_json[\"link\"]\n",
    "            original_letter_link = letter_json[\"original_letter_link\"]\n",
    "            is_response = letter_json[\"is_response\"]\n",
    "            comments = letter_json[\"comments\"]\n",
    "            \n",
    "            data_df[\"title\"].append(title)\n",
    "            data_df[\"year\"].append(year)\n",
    "            data_df[\"month\"].append(month)\n",
    "            data_df[\"day\"].append(day)\n",
    "            data_df[\"body\"].append(body)\n",
    "            data_df[\"link\"].append(link)\n",
    "            data_df[\"original_letter_link\"].append(original_letter_link)\n",
    "            data_df[\"is_response\"].append(is_response)\n",
    "            data_df[\"comments_amount\"].append(len(comments))\n",
    "        \n",
    "data_df = pd.DataFrame(data_df)"
   ]
  },
  {
   "cell_type": "code",
   "execution_count": null,
   "metadata": {},
   "outputs": [],
   "source": [
    "def plot_stacked_bar(labels: List[str], values: Dict[str, List[int]], title: str):\n",
    "    width = 0.35       # the width of the bars: can also be len(x) sequence\n",
    "\n",
    "    fig, ax = plt.subplots()\n",
    "\n",
    "    bottom = np.zeros(len(next(iter(values.values()))))\n",
    "    \n",
    "    for name, value in values.items():\n",
    "        ax.bar(labels, value, width, label=name, bottom=bottom)\n",
    "        bottom = bottom + np.array(value)\n",
    "\n",
    "    ax.set_title(title)\n",
    "    plt.xticks(labels)\n",
    "    ax.legend()\n",
    "    \n",
    "    plt.savefig(title.replace(\" \", \"_\") + \".png\")\n",
    "\n",
    "    plt.show()"
   ]
  },
  {
   "cell_type": "code",
   "execution_count": null,
   "metadata": {},
   "outputs": [],
   "source": [
    "\n",
    "years = data_df.groupby(by=\"year\").count()[\"link\"]\n",
    "response_years = data_df[data_df['is_response']].groupby(by=\"year\").count()[\"link\"]\n",
    "not_response_years = data_df[~data_df['is_response']].groupby(by=\"year\").count()[\"link\"]\n",
    "\n",
    "values = {\n",
    "    'respuestas': [0] + list(response_years), # 2013 is 0\n",
    "    'normales': not_response_years,\n",
    "}\n",
    "\n",
    "plot_stacked_bar(years.index, values, \"Cartas por año\")\n"
   ]
  },
  {
   "cell_type": "code",
   "execution_count": null,
   "metadata": {},
   "outputs": [],
   "source": [
    "response_letters = data_df[data_df['is_response']]['link'].drop_duplicates().count()\n",
    "responded_letters = data_df['original_letter_link'].drop_duplicates().count()\n",
    "letters = data_df['link'].drop_duplicates().count()\n",
    "\n",
    "print(\"Cartas de respuesta\", response_letters)\n",
    "print(\"Cartas respondidas\", responded_letters)\n",
    "print(\"Total de cartas\", letters)\n"
   ]
  },
  {
   "cell_type": "code",
   "execution_count": null,
   "metadata": {},
   "outputs": [],
   "source": [
    "from nltk import word_tokenize\n",
    "import string\n",
    "\n",
    "# body_len = data_df[\"body\"].map(lambda x: len(x.split()))\n",
    "body_len = data_df[\"body\"].map(lambda x: 0 if x in string.punctuation else len(word_tokenize(x)))\n",
    "bins = sorted(set(body_len))\n",
    "body_len.hist(bins=len(bins)//5)\n",
    "plt.title(\"Cantidad de palabras\")\n",
    "plt.savefig(\"Cantidad_de_palabras.png\")\n",
    "plt.show()\n",
    "print(body_len.describe())\n",
    "print(body_len.sum())\n"
   ]
  },
  {
   "cell_type": "code",
   "execution_count": null,
   "metadata": {},
   "outputs": [],
   "source": [
    "bins = sorted(set(data_df[\"comments_amount\"]))\n",
    "data_df[\"comments_amount\"].hist(bins=len(bins))\n",
    "plt.title(\"Cantidad de comentarios\")\n",
    "plt.xticks(range(15))\n",
    "plt.savefig(\"Cantidad_de_comentarios.png\")\n",
    "plt.show()\n",
    "print(data_df[\"comments_amount\"].describe())\n",
    "print(data_df[\"comments_amount\"][data_df[\"comments_amount\"] > 0].count())\n",
    "print(data_df[\"comments_amount\"][data_df[\"comments_amount\"] == 0].count())\n",
    "\n"
   ]
  },
  {
   "cell_type": "code",
   "execution_count": null,
   "metadata": {},
   "outputs": [],
   "source": []
  }
 ],
 "metadata": {
  "interpreter": {
   "hash": "31f2aee4e71d21fbe5cf8b01ff0e069b9275f58929596ceb00d14d90e3e16cd6"
  },
  "kernelspec": {
   "display_name": "Python 3",
   "language": "python",
   "name": "python3"
  },
  "language_info": {
   "codemirror_mode": {
    "name": "ipython",
    "version": 3
   },
   "file_extension": ".py",
   "mimetype": "text/x-python",
   "name": "python",
   "nbconvert_exporter": "python",
   "pygments_lexer": "ipython3",
   "version": "3.8.10"
  }
 },
 "nbformat": 4,
 "nbformat_minor": 2
}
