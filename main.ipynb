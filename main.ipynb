{
 "cells": [
  {
   "cell_type": "markdown",
   "metadata": {},
   "source": [
    "# Main\n",
    "\n",
    "Using the notebook will allow you to load the model once and use it as many times as you\n",
    "want. Also makes the code more resilient to errors, such as a bad path."
   ]
  },
  {
   "cell_type": "code",
   "execution_count": null,
   "metadata": {},
   "outputs": [],
   "source": [
    "from pathlib import Path\n",
    "\n",
    "INFO_TAG = \"persuasive_essays_paragraph\"\n",
    "BASE_DATA = Path(\"data\")\n",
    "\n",
    "SOURCE_LANGUAGE = \"english\"\n",
    "TARGET_LANGUAGE = \"spanish\"\n",
    "\n",
    "# Corpus Projection\n",
    "CORPUS = BASE_DATA / \"corpus\" / INFO_TAG\n",
    "PROCESSED_CORPUS = BASE_DATA / \"parsed_to_conll\" / INFO_TAG\n",
    "SENTENCE_ALIGN = BASE_DATA / 'sentence_alignment' / INFO_TAG\n",
    "BIDIRECTIONAL_ALIGN = BASE_DATA / 'bidirectional_alignment' / INFO_TAG\n",
    "PROJECTION = BASE_DATA / 'projection' / INFO_TAG\n",
    "\n",
    "# Link Prediction\n",
    "TO_PROCESS = BASE_DATA / \"to_process\" / INFO_TAG\n",
    "SEGMENTER = BASE_DATA / \"segmenter_processed\" / INFO_TAG\n",
    "LINK_PREDICTION = BASE_DATA / 'link_prediction_processed' / INFO_TAG\n",
    "\n",
    "# Export to Brat\n",
    "BRAT = Path(\"brat\", \"data\", INFO_TAG)\n"
   ]
  },
  {
   "cell_type": "markdown",
   "metadata": {},
   "source": [
    "# Corpus Projection"
   ]
  },
  {
   "cell_type": "code",
   "execution_count": null,
   "metadata": {},
   "outputs": [],
   "source": [
    "from pipelines.corpus_pipelines import full_corpus_processing_pipeline\n",
    "\n",
    "from aligner.aligner import AwesomeAlignAligner as Aligner\n",
    "from corpus_parser.unified_parser import UnifiedParser as Parser\n",
    "from projector.projector import CrossLingualAnnotationProjector as Projector\n",
    "from sentence_aligner.sentence_aligner import SentenceAligner\n",
    "from sentence_aligner.translator import GoogleDeepTranslator as Translator\n",
    "\n",
    "full_corpus_processing_pipeline(\n",
    "    corpus_dir=CORPUS,\n",
    "    standard_corpus_dest_dir=PROCESSED_CORPUS,\n",
    "    sentence_alignment_dest_dir=SENTENCE_ALIGN,\n",
    "    bidirectional_alignment_dest_dir=BIDIRECTIONAL_ALIGN,\n",
    "    projection_dest_dir=PROJECTION,\n",
    "    corpus_parser=Parser(),\n",
    "    sentence_aligner=SentenceAligner(Translator()),\n",
    "    aligner=Aligner(),\n",
    "    projector=Projector(),\n",
    "    source_language=SOURCE_LANGUAGE,\n",
    "    target_language=TARGET_LANGUAGE\n",
    ")"
   ]
  },
  {
   "cell_type": "markdown",
   "metadata": {},
   "source": [
    "# Link Prediction"
   ]
  },
  {
   "cell_type": "code",
   "execution_count": null,
   "metadata": {},
   "outputs": [],
   "source": [
    "from pipelines.segmenter_pipelines import perform_full_inference_pipeline, perform_segmentation_pipeline, perform_link_prediction_pipeline\n"
   ]
  },
  {
   "cell_type": "code",
   "execution_count": null,
   "metadata": {
    "scrolled": true
   },
   "outputs": [],
   "source": [
    "from segmenter.tf_segmenter import TensorflowArgumentSegmenter as Segmenter\n",
    "\n",
    "segmenter = Segmenter(INFO_TAG, TARGET_LANGUAGE)\n"
   ]
  },
  {
   "cell_type": "code",
   "execution_count": null,
   "metadata": {},
   "outputs": [],
   "source": [
    "from link_prediction.tf_link_predictor import TensorflowLinkPredictor as LinkPredictor\n",
    "\n",
    "link_predictor = LinkPredictor(INFO_TAG, TARGET_LANGUAGE)"
   ]
  },
  {
   "cell_type": "code",
   "execution_count": null,
   "metadata": {},
   "outputs": [],
   "source": [
    "\n",
    "# perform_segmentation_pipeline(\n",
    "#     segmenter=segmenter,\n",
    "#     source_dir=TO_PROCESS,\n",
    "#     destination_dir=SEGMENTER,\n",
    "# )\n",
    "\n",
    "# perform_link_prediction_pipeline(\n",
    "#     link_predictor=link_predictor,\n",
    "#     source_dir=SEGMENTER,\n",
    "#     destination_dir=LINK_PREDICTION,\n",
    "#     source_language=TARGET_LANGUAGE\n",
    "# )\n",
    "\n",
    "perform_full_inference_pipeline(\n",
    "    segmenter=segmenter,\n",
    "    link_predictor=link_predictor,\n",
    "    source_dir=TO_PROCESS,\n",
    "    segmenter_destination_dir=SEGMENTER,\n",
    "    destination_dir=LINK_PREDICTION,\n",
    "    source_language=TARGET_LANGUAGE\n",
    ")"
   ]
  },
  {
   "cell_type": "markdown",
   "metadata": {},
   "source": [
    "# Export to Brat"
   ]
  },
  {
   "cell_type": "code",
   "execution_count": null,
   "metadata": {},
   "outputs": [],
   "source": [
    "\n",
    "from corpus_parser.brat_parser import BratParser\n",
    "from corpus_parser.conll_parser import ConllParser\n",
    "\n",
    "dataframes_dict = ConllParser(bioes=True).parse_dir(LINK_PREDICTION)\n",
    "\n",
    "BratParser().export_from_dataframes(BRAT, dataframes_dict)\n"
   ]
  },
  {
   "cell_type": "code",
   "execution_count": 1,
   "metadata": {},
   "outputs": [
    {
     "name": "stdout",
     "output_type": "stream",
     "text": [
      "absl-py==1.0.0\r\n",
      "argon2-cffi==21.3.0\r\n",
      "argon2-cffi-bindings==21.2.0\r\n",
      "asttokens==2.0.5\r\n",
      "astunparse==1.6.3\r\n",
      "attrs==21.4.0\r\n",
      "awesome-align==0.1.7\r\n",
      "backcall==0.2.0\r\n",
      "beautifulsoup4==4.11.1\r\n",
      "bleach==5.0.0\r\n",
      "boto3==1.24.71\r\n",
      "botocore==1.27.71\r\n",
      "cachetools==5.1.0\r\n",
      "certifi==2022.5.18.1\r\n",
      "cffi==1.15.0\r\n",
      "charset-normalizer==2.0.12\r\n",
      "click==8.1.3\r\n",
      "cycler==0.11.0\r\n",
      "debugpy==1.6.0\r\n",
      "decorator==5.1.1\r\n",
      "defusedxml==0.7.1\r\n",
      "entrypoints==0.4\r\n",
      "executing==0.8.3\r\n",
      "fastjsonschema==2.15.3\r\n",
      "filelock==3.8.0\r\n",
      "flatbuffers==1.12\r\n",
      "fonttools==4.33.3\r\n",
      "gast==0.4.0\r\n",
      "google-auth==2.6.6\r\n",
      "google-auth-oauthlib==0.4.6\r\n",
      "google-pasta==0.2.0\r\n",
      "grpcio==1.46.3\r\n",
      "h5py==3.6.0\r\n",
      "idna==3.3\r\n",
      "importlib-metadata==4.11.4\r\n",
      "importlib-resources==5.7.1\r\n",
      "ipykernel==5.1.1\r\n",
      "ipython==8.3.0\r\n",
      "ipython-genutils==0.2.0\r\n",
      "ipywidgets==7.7.0\r\n",
      "jedi==0.17.2\r\n",
      "Jinja2==3.1.2\r\n",
      "jmespath==1.0.1\r\n",
      "joblib==1.1.0\r\n",
      "jsonschema==4.5.1\r\n",
      "jupyter==1.0.0\r\n",
      "jupyter-client==7.3.1\r\n",
      "jupyter-console==6.4.3\r\n",
      "jupyter-core==4.10.0\r\n",
      "jupyter-http-over-ws==0.0.8\r\n",
      "jupyterlab-pygments==0.2.2\r\n",
      "jupyterlab-widgets==1.1.0\r\n",
      "keras==2.9.0\r\n",
      "Keras-Preprocessing==1.1.2\r\n",
      "kiwisolver==1.4.2\r\n",
      "libclang==14.0.1\r\n",
      "Markdown==3.3.7\r\n",
      "MarkupSafe==2.1.1\r\n",
      "matplotlib==3.5.2\r\n",
      "matplotlib-inline==0.1.3\r\n",
      "mistune==0.8.4\r\n",
      "nbclient==0.6.3\r\n",
      "nbconvert==6.5.0\r\n",
      "nbformat==4.4.0\r\n",
      "nest-asyncio==1.5.5\r\n",
      "nltk==3.7\r\n",
      "notebook==6.4.11\r\n",
      "numpy==1.22.4\r\n",
      "oauthlib==3.2.0\r\n",
      "opt-einsum==3.3.0\r\n",
      "packaging==21.3\r\n",
      "pandas==1.4.3\r\n",
      "pandocfilters==1.5.0\r\n",
      "parso==0.7.1\r\n",
      "pexpect==4.8.0\r\n",
      "pickleshare==0.7.5\r\n",
      "Pillow==9.1.1\r\n",
      "prometheus-client==0.14.1\r\n",
      "prompt-toolkit==3.0.29\r\n",
      "protobuf==3.19.4\r\n",
      "psutil==5.9.1\r\n",
      "ptyprocess==0.7.0\r\n",
      "pure-eval==0.2.2\r\n",
      "pyasn1==0.4.8\r\n",
      "pyasn1-modules==0.2.8\r\n",
      "pycparser==2.21\r\n",
      "Pygments==2.12.0\r\n",
      "pyparsing==3.0.9\r\n",
      "pyrsistent==0.18.1\r\n",
      "python-dateutil==2.8.2\r\n",
      "pytz==2022.1\r\n",
      "pyzmq==23.0.0\r\n",
      "qtconsole==5.3.0\r\n",
      "QtPy==2.1.0\r\n",
      "regex==2022.7.9\r\n",
      "requests==2.27.1\r\n",
      "requests-oauthlib==1.3.1\r\n",
      "rsa==4.8\r\n",
      "s3transfer==0.6.0\r\n",
      "scikit-learn==1.1.2\r\n",
      "scipy==1.9.1\r\n",
      "Send2Trash==1.8.0\r\n",
      "six==1.16.0\r\n",
      "soupsieve==2.3.2.post1\r\n",
      "stack-data==0.2.0\r\n",
      "tensorboard==2.9.0\r\n",
      "tensorboard-data-server==0.6.1\r\n",
      "tensorboard-plugin-wit==1.8.1\r\n",
      "tensorflow-addons==0.17.1\r\n",
      "tensorflow-cpu==2.9.1\r\n",
      "tensorflow-estimator==2.9.0\r\n",
      "tensorflow-io-gcs-filesystem==0.26.0\r\n",
      "termcolor==1.1.0\r\n",
      "terminado==0.15.0\r\n",
      "threadpoolctl==3.1.0\r\n",
      "tinycss2==1.1.1\r\n",
      "tokenizers==0.12.1\r\n",
      "torch==1.12.1\r\n",
      "tornado==6.1\r\n",
      "tqdm==4.64.0\r\n",
      "traitlets==5.2.1.post0\r\n",
      "typeguard==2.13.3\r\n",
      "typing-extensions==4.2.0\r\n",
      "urllib3==1.26.9\r\n",
      "wcwidth==0.2.5\r\n",
      "webencodings==0.5.1\r\n",
      "Werkzeug==2.1.2\r\n",
      "widgetsnbextension==3.6.0\r\n",
      "wrapt==1.14.1\r\n",
      "zipp==3.8.0\r\n"
     ]
    }
   ],
   "source": [
    "!pip freeze"
   ]
  }
 ],
 "metadata": {
  "interpreter": {
   "hash": "31f2aee4e71d21fbe5cf8b01ff0e069b9275f58929596ceb00d14d90e3e16cd6"
  },
  "kernelspec": {
   "display_name": "Python 3",
   "language": "python",
   "name": "python3"
  },
  "language_info": {
   "codemirror_mode": {
    "name": "ipython",
    "version": 3
   },
   "file_extension": ".py",
   "mimetype": "text/x-python",
   "name": "python",
   "nbconvert_exporter": "python",
   "pygments_lexer": "ipython3",
   "version": "3.8.10"
  }
 },
 "nbformat": 4,
 "nbformat_minor": 2
}
